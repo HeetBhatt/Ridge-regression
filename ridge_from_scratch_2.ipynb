{
 "cells": [
  {
   "cell_type": "code",
   "execution_count": 1,
   "metadata": {},
   "outputs": [],
   "source": [
    "import pandas as pd\n",
    "import numpy as np\n",
    "from sklearn.datasets import load_diabetes\n",
    "from sklearn.model_selection import train_test_split"
   ]
  },
  {
   "cell_type": "code",
   "execution_count": 2,
   "metadata": {},
   "outputs": [],
   "source": [
    "X,y = load_diabetes(return_X_y=True)"
   ]
  },
  {
   "cell_type": "code",
   "execution_count": 3,
   "metadata": {},
   "outputs": [],
   "source": [
    "X_train,X_test,y_train,y_test = train_test_split(X,y,test_size = 0.2,random_state =2)"
   ]
  },
  {
   "cell_type": "code",
   "execution_count": 5,
   "metadata": {},
   "outputs": [
    {
     "data": {
      "text/plain": [
       "array([[ 1.        , -0.00188202, -0.04464164, ..., -0.03949338,\n",
       "        -0.06291688,  0.04034337],\n",
       "       [ 1.        , -0.00914709, -0.04464164, ..., -0.03949338,\n",
       "         0.01703607, -0.0052198 ],\n",
       "       [ 1.        ,  0.02354575,  0.05068012, ..., -0.03949338,\n",
       "        -0.09643495, -0.01764613],\n",
       "       ...,\n",
       "       [ 1.        ,  0.06350368,  0.05068012, ..., -0.00259226,\n",
       "         0.08449153, -0.01764613],\n",
       "       [ 1.        , -0.05273755,  0.05068012, ...,  0.1081111 ,\n",
       "         0.03606033, -0.04249877],\n",
       "       [ 1.        ,  0.00175052,  0.05068012, ...,  0.1081111 ,\n",
       "         0.06898589,  0.12732762]])"
      ]
     },
     "execution_count": 5,
     "metadata": {},
     "output_type": "execute_result"
    }
   ],
   "source": [
    "X_train = np.insert(X_train,0,1,axis=1)\n",
    "X_train"
   ]
  },
  {
   "cell_type": "code",
   "execution_count": 14,
   "metadata": {},
   "outputs": [],
   "source": [
    "class ridge:\n",
    "    def __init__(self,alpha=0.01):\n",
    "        self.coef = None\n",
    "        self.intercept = None\n",
    "        self.alpha = alpha\n",
    "    \n",
    "    def fit(self,X_train,y_train):\n",
    "        I = np.identity(X_train.shape[1])\n",
    "        I[0][0] = 0\n",
    "        result = np.linalg.inv(np.dot(X_train.T,X_train)+self.alpha*I ).dot(X_train.T).dot(y_train)\n",
    "        self.intercept = result[0]\n",
    "        self.coef = result[1:]\n",
    "        print(self.intercept)\n",
    "        print(self.coef)\n",
    "    def predict(self,X_test):\n",
    "        return np.dot(X_test,self.coef)+self.intercept"
   ]
  },
  {
   "cell_type": "code",
   "execution_count": 15,
   "metadata": {},
   "outputs": [
    {
     "name": "stdout",
     "output_type": "stream",
     "text": [
      "151.89634236462942\n",
      "[  -6.39950705 -198.66294531  522.05651642  336.34059463 -383.71757069\n",
      "  152.67088166  -66.05324282   75.60820878  659.8752192    55.82922059]\n"
     ]
    }
   ],
   "source": [
    "r = ridge()\n",
    "r.fit(X_train,y_train)\n"
   ]
  },
  {
   "cell_type": "code",
   "execution_count": 16,
   "metadata": {},
   "outputs": [],
   "source": [
    "y_pred = r.predict(X_test)       "
   ]
  },
  {
   "cell_type": "code",
   "execution_count": 17,
   "metadata": {},
   "outputs": [
    {
     "data": {
      "text/plain": [
       "0.4439392894728019"
      ]
     },
     "execution_count": 17,
     "metadata": {},
     "output_type": "execute_result"
    }
   ],
   "source": [
    "from sklearn.metrics import r2_score\n",
    "r2_score(y_test,y_pred)"
   ]
  },
  {
   "cell_type": "code",
   "execution_count": null,
   "metadata": {},
   "outputs": [],
   "source": []
  }
 ],
 "metadata": {
  "kernelspec": {
   "display_name": "Python 3",
   "language": "python",
   "name": "python3"
  },
  "language_info": {
   "codemirror_mode": {
    "name": "ipython",
    "version": 3
   },
   "file_extension": ".py",
   "mimetype": "text/x-python",
   "name": "python",
   "nbconvert_exporter": "python",
   "pygments_lexer": "ipython3",
   "version": "3.11.4"
  }
 },
 "nbformat": 4,
 "nbformat_minor": 2
}
